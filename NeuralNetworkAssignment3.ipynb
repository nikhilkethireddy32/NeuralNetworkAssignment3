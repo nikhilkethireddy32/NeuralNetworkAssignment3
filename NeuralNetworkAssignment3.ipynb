{
 "cells": [
  {
   "cell_type": "code",
   "execution_count": 6,
   "id": "98ac5184-83f2-4c3e-a7da-def2f464f1d5",
   "metadata": {},
   "outputs": [
    {
     "name": "stdout",
     "output_type": "stream",
     "text": [
      "average: 5533.333333333333\n",
      "Name: Rahul family: Kandakatala salary: 4000 department development\n",
      "Total number of employess 4\n"
     ]
    },
    {
     "data": {
      "text/plain": [
       "('HP', None, None)"
      ]
     },
     "execution_count": 6,
     "metadata": {},
     "output_type": "execute_result"
    }
   ],
   "source": [
    "#create a class employee and then do the following\n",
    "class Employee:\n",
    "     empcount=0\n",
    "     salsum=0\n",
    "     def __init__(self,name,family,salary,department):\n",
    "         self.name=name\n",
    "         self.family=family\n",
    "         self.salary=salary\n",
    "         self.department=department\n",
    "         Employee.empcount+=1\n",
    "         Employee.salsum+=self.salary\n",
    "     def avg(self):\n",
    "        return Employee.salsum/Employee.empcount\n",
    "     def displaycount(self):\n",
    "        print(\"Total number of employess %d\" % Employee.empcount)\n",
    "     def displayemployee(self):\n",
    "        print(\"Name:\",self.name,\"family:\",self.family,\"salary:\",self.salary,\"department\",self.department)\n",
    "\n",
    "emp1=Employee(\"Nikhil\",\"Kethireddy\",5000,\"Velosio\")\n",
    "emp2=Employee(\"Pavan\",\"Kommidi\",5600,\"Google\")\n",
    "emp3=Employee(\"Pranay\",\"Chittireddy\",6000,\"IBM\")\n",
    "print(\"average:\",emp1.avg())\n",
    "\n",
    "class fulltimeemployee(Employee):\n",
    "    def __init__(self,name,family,salary,department,c_name):\n",
    "        super().__init__(name,family,salary,department)\n",
    "        self.c_name=c_name\n",
    "    def setcompany(self,c_name):\n",
    "        self.c_name=c_name\n",
    "    def getcompany(self):\n",
    "        if self.c_name not in self.c_name:\n",
    "            return \"\"\n",
    "        return self.c_name\n",
    "nik=fulltimeemployee(\"Rahul\",\"Kandakatala\",4000,\"development\",\"TCS\")\n",
    "nik.setcompany(\"HP\")\n",
    "nik.getcompany(),nik.displayemployee(),emp1.displaycount()\n"
   ]
  },
  {
   "cell_type": "code",
   "execution_count": 1,
   "id": "2f98cbe7-77a5-41fa-8f69-d2133500e381",
   "metadata": {},
   "outputs": [
    {
     "ename": "ModuleNotFoundError",
     "evalue": "No module named 'numpy'",
     "output_type": "error",
     "traceback": [
      "\u001b[1;31m---------------------------------------------------------------------------\u001b[0m",
      "\u001b[1;31mModuleNotFoundError\u001b[0m                       Traceback (most recent call last)",
      "Cell \u001b[1;32mIn[1], line 2\u001b[0m\n\u001b[0;32m      1\u001b[0m \u001b[38;5;66;03m#using numpy create random vector of size 20 having only float in the range 1-20\u001b[39;00m\n\u001b[1;32m----> 2\u001b[0m \u001b[38;5;28;01mimport\u001b[39;00m \u001b[38;5;21;01mnumpy\u001b[39;00m \u001b[38;5;28;01mas\u001b[39;00m \u001b[38;5;21;01mnp\u001b[39;00m\n\u001b[0;32m      3\u001b[0m vector\u001b[38;5;241m=\u001b[39mnp\u001b[38;5;241m.\u001b[39marange(\u001b[38;5;241m1\u001b[39m,\u001b[38;5;241m21\u001b[39m,dtype\u001b[38;5;241m=\u001b[39m\u001b[38;5;28mfloat\u001b[39m)\n\u001b[0;32m      4\u001b[0m \u001b[38;5;28mprint\u001b[39m(vector)\n",
      "\u001b[1;31mModuleNotFoundError\u001b[0m: No module named 'numpy'"
     ]
    }
   ],
   "source": [
    "#using numpy create random vector of size 20 having only float in the range 1-20\n",
    "\n",
    "import numpy as np\n",
    "vector=np.arange(1,21,dtype=float)\n",
    "print(vector)\n",
    "vector=vector.reshape(4,5)\n",
    "print(vector)\n",
    "vector=np.where(np.isin(vector.max(axis=1)),0,vector)\n",
    "vector"
   ]
  },
  {
   "cell_type": "code",
   "execution_count": null,
   "id": "449565fc-2a24-4b9c-9230-3baadbacaf78",
   "metadata": {},
   "outputs": [],
   "source": []
  },
  {
   "cell_type": "code",
   "execution_count": null,
   "id": "24f36569-c21c-4ece-ac46-89094f4d4b1c",
   "metadata": {},
   "outputs": [],
   "source": []
  }
 ],
 "metadata": {
  "kernelspec": {
   "display_name": "Python 3 (ipykernel)",
   "language": "python",
   "name": "python3"
  },
  "language_info": {
   "codemirror_mode": {
    "name": "ipython",
    "version": 3
   },
   "file_extension": ".py",
   "mimetype": "text/x-python",
   "name": "python",
   "nbconvert_exporter": "python",
   "pygments_lexer": "ipython3",
   "version": "3.12.1"
  }
 },
 "nbformat": 4,
 "nbformat_minor": 5
}
